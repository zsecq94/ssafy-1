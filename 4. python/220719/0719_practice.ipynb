{
 "cells": [
  {
   "cell_type": "markdown",
   "metadata": {},
   "source": [
    "# Python Practice 02\n",
    "\n",
    "\n",
    "\n"
   ]
  },
  {
   "cell_type": "markdown",
   "metadata": {},
   "source": [
    "## Practice 1 : 자판기 메뉴 표현하기\n",
    "\n",
    "### 목표 : Python 기초 문법 익히기 (변수, 할당,  연산자, 연산자 우선순위)\n",
    "\n",
    "> (1) 다음과 같은 자판기 메뉴를 변수의 할당을 사용하여 표현합니다. <br> (HINT) 가격은 계산하기 편한 자료형을 사용합니다.\n",
    "\n",
    "1. 콜라 500원\n",
    "2. 사이다 700원\n",
    "3. 레모네이드 4500원\n",
    "4. 오렌지주스 2000원\n",
    "5. 초코우유 1200원\n",
    "6. 아메리카노 3600원"
   ]
  },
  {
   "cell_type": "code",
   "execution_count": 3,
   "metadata": {},
   "outputs": [],
   "source": [
    "# 아래에 답안을 작성해 주세요.\n",
    "aaa = 500\n",
    "bbb = 700\n",
    "ccc = 4500\n",
    "ddd = 2000\n",
    "eee = 1200\n",
    "fff = 3600"
   ]
  },
  {
   "cell_type": "markdown",
   "metadata": {},
   "source": [
    "> (2) 김싸피의 현재 소지 금액은 30,000원입니다. <br>\n",
    "김싸피는 콜라와 사이다는 2개씩, 나머지 메뉴는 모두 1개씩 구매하려고 합니다. <br>\n",
    "(1)의 결과를 활용하여 거스름돈을 계산한 후 출력합니다.\n",
    "\n",
    "[변수 설명]\n",
    "\n",
    "* money : 김싸피의 현재 소지 금액\n",
    "* change : 거스름돈"
   ]
  },
  {
   "cell_type": "code",
   "execution_count": 4,
   "metadata": {},
   "outputs": [
    {
     "name": "stdout",
     "output_type": "stream",
     "text": [
      "16300\n"
     ]
    }
   ],
   "source": [
    "# 아래에 답안을 작성해 주세요.\n",
    "money = 30000\n",
    "change = money - (aaa*2 + bbb*2 + ccc + ddd + eee + fff)\n",
    "print(change)"
   ]
  },
  {
   "cell_type": "markdown",
   "metadata": {},
   "source": [
    "## Practice 2 : 항구의 배 표시하기\n",
    "\n",
    "### 목표 : 리스트 익히기(생성과 접근, 인덱싱, 슬라이싱)\n",
    "\n",
    "> (1) 리스트를 사용하여 다음의 상황을 표현한 후 항구 정보를 출력합니다.\n",
    "\n",
    "싸피국의 항구는 가로로 긴 모양을 하고 있으며, 총 15대의 배가 동시에 입항할 수 있습니다.\n",
    "선착장 번호는 왼쪽 끝인 1번부터 오른쪽 끝인 15번까지 존재합니다.\n",
    "현재 4번, 8번, 9번, 15번 선착장에 배가 들어와 있습니다.\n",
    "\n",
    "[변수 설명]\n",
    "\n",
    "* ports : 항구\n",
    "\n",
    "[요구 사항]\n",
    "\n",
    "1. 항구 정보를 리스트로 표현합니다.\n",
    "2. 배가 있으면 True, 없으면 False로 표기합니다.\n",
    "3. 4번, 8번, 9번, 15번 선착장은 배가 있음을 표기합니다.\n",
    "4. 모든 배에 대해서 항구 정보를 출력합니다."
   ]
  },
  {
   "cell_type": "code",
   "execution_count": 5,
   "metadata": {},
   "outputs": [
    {
     "name": "stdout",
     "output_type": "stream",
     "text": [
      "False False False True False False False True True False False False False False True "
     ]
    }
   ],
   "source": [
    "# 아래에 답안을 작성해 주세요.\n",
    "ports = list(range(1, 16))\n",
    "\n",
    "for i in range(15):\n",
    "    if ports[i] == 4 or ports[i] == 8 or ports[i] ==  9 or ports[i] ==  15:\n",
    "            print(True, end = ' ')\n",
    "            \n",
    "    else:\n",
    "            print(False, end = ' ')"
   ]
  },
  {
   "cell_type": "markdown",
   "metadata": {},
   "source": [
    "> (2) 항구를 관리하는 김싸피는, 홀수 선착장의 현황만 따로 추려서 보고자 합니다. <br> (1)의 결과를 활용하여, 홀수 선착장의 번호를 갖는 리스트를 만들어서 출력합니다.\n",
    "\n",
    "[변수 설명]\n",
    "\n",
    "* odd_ports : 홀수 선착장 정보"
   ]
  },
  {
   "cell_type": "code",
   "execution_count": 9,
   "metadata": {},
   "outputs": [
    {
     "name": "stdout",
     "output_type": "stream",
     "text": [
      "[1, 3, 5, 7, 9, 11, 13, 15]\n"
     ]
    }
   ],
   "source": [
    "# 아래에 답안을 작성해 주세요.\n",
    "odd_ports = ports[0:15:2]\n",
    "print(odd_ports)"
   ]
  },
  {
   "cell_type": "markdown",
   "metadata": {},
   "source": [
    "## Practice 3 : 로또 당첨 여부 확인하기\n",
    "\n",
    "### 목표 : Set 자료구조 활용 및 연산자 숙달\n",
    "\n",
    "> 김싸피가 수동으로 구매한 로또 번호는 1, 12, 27, 33, 38, 42입니다. <br>\n",
    "해당 회차의 로또 당첨 번호는 7, 15, 27, 33, 37, 42입니다. <br>\n",
    "김싸피가 고른 번호들과 로또 당첨 번호를 Set을 활용해 표현하고, 몇 개의 번호가 맞았는지 출력합니다.\n",
    "\n",
    "[변수 설명]\n",
    "\n",
    "* ssafy_choice : 김싸피가 고른 번호 목록\n",
    "* lucky_numbers : 해당 회차의 로또 당첨 번호 목록\n",
    "* count : 몇 개의 번호가 맞았는지 세는 변수"
   ]
  },
  {
   "cell_type": "code",
   "execution_count": 12,
   "metadata": {
    "scrolled": true
   },
   "outputs": [
    {
     "name": "stdout",
     "output_type": "stream",
     "text": [
      "{33, 42, 27}\n",
      "3\n"
     ]
    }
   ],
   "source": [
    "# 아래에 답안을 작성해 주세요.\n",
    "ssafy_choice = {1, 12, 27, 33, 38, 42}\n",
    "luck_numbers = {7, 15, 27, 33, 37, 42}\n",
    "print(ssafy_choice & luck_numbers)\n",
    "count = len(ssafy_choice & luck_numbers)\n",
    "print(count)"
   ]
  },
  {
   "cell_type": "markdown",
   "metadata": {},
   "source": [
    "## Practice 4 : 도시 정보 구조화하기\n",
    "\n",
    "### 목표 : 리스트, 딕셔너리 컨테이너 숙달\n",
    "\n",
    "> (1) 싸피국은 수도인 A 도시와 일반 도시인 B 도시가 있습니다. <br>\n",
    "싸피국은 매일 두 도시의 이산화탄소 및 산소 농도를 조사하는데, <br>\n",
    "김싸피는 분석기로부터 얻은 데이터를 리스트 및 딕셔너리를 활용해 구조화하려 합니다. <br>\n",
    "자세한 구조는 변수 설명과 딕셔너리 키 설명을 참고합니다.\n",
    "\n",
    "[변수 설명]\n",
    "\n",
    "* air_info\n",
    "    - 두 도시의 정보를 담는 리스트입니다.\n",
    "    - 두 도시의 정보는 각각 딕셔너리 형태입니다.\n",
    "\n",
    "[각 도시의 정보]\n",
    "\n",
    "* name : 도시 이름\n",
    "* capital : 수도 여부\n",
    "* air_status : 대기 정보 (딕셔너리)\n",
    "    * O2 : 산소 농도\n",
    "    * CO2 : 이산화탄소 농도\n",
    "    \n",
    "[요구 사항]\n",
    "1. A 도시 : 도시 이름은 A이며, 수도입니다. 산소 농도는 3이며, 이산화탄소 농도는 2입니다.\n",
    "2. B 도시 : 도시 이름은 B이며, 수도가 아닙니다. 산소 농도는 5이며, 이산화탄소 농도는 3입니다.\n"
   ]
  },
  {
   "cell_type": "code",
   "execution_count": 15,
   "metadata": {},
   "outputs": [
    {
     "name": "stdout",
     "output_type": "stream",
     "text": [
      "1. A도시 : 도시이름은A 수도입니다. 산소 농도는 3이며 이산화탄소 농도는 2입니다 \n",
      "2. B도시 : 도시이름은B 수도가 아닙니다. 산소 농도는 5이며 이산화탄소 농도는 3입니다 \n"
     ]
    }
   ],
   "source": [
    "# 아래에 답안을 작성해 주세요.\n",
    "dict_a = {'name' : 'A', 'capital' : 'True', 'O2' : '3', 'CO2' : '2'}\n",
    "dict_b = {'name' : 'B', 'capital' : 'False', 'O2' : '5', 'CO2' : '3'}\n",
    "air_info = [dict_a, dict_b]\n",
    "print(f\"1. {air_info[0]['name']}도시 : 도시이름은{air_info[0]['name']} 수도입니다. 산소 농도는 {air_info[0]['O2']}이며 이산화탄소 농도는 {air_info[0]['CO2']}입니다 \")\n",
    "print(f\"2. {air_info[1]['name']}도시 : 도시이름은{air_info[1]['name']} 수도가 아닙니다. 산소 농도는 {air_info[1]['O2']}이며 이산화탄소 농도는 {air_info[1]['CO2']}입니다 \")"
   ]
  },
  {
   "cell_type": "markdown",
   "metadata": {},
   "source": [
    "> (2) 김싸피는 두 도시의 산소 농도 정보만을 모아서 정리하고자 합니다. 변수 설명을 참고하여 정리된 정보를 출력합니다.\n",
    "\n",
    "[변수 설명]\n",
    "\n",
    "O2_info : 두 도시의 산소 농도 값을 모은 리스트"
   ]
  },
  {
   "cell_type": "code",
   "execution_count": 20,
   "metadata": {},
   "outputs": [
    {
     "name": "stdout",
     "output_type": "stream",
     "text": [
      "3\n",
      "5\n",
      "['3', '5']\n"
     ]
    }
   ],
   "source": [
    "print(air_info[0]['O2'])\n",
    "print(air_info[1]['O2'])\n",
    "\n",
    "O2_info = [air_info[0]['O2'], air_info[1]['O2']]\n",
    "print(O2_info)"
   ]
  },
  {
   "cell_type": "code",
   "execution_count": null,
   "metadata": {},
   "outputs": [],
   "source": []
  }
 ],
 "metadata": {
  "kernelspec": {
   "display_name": "Python 3 (ipykernel)",
   "language": "python",
   "name": "python3"
  },
  "language_info": {
   "codemirror_mode": {
    "name": "ipython",
    "version": 3
   },
   "file_extension": ".py",
   "mimetype": "text/x-python",
   "name": "python",
   "nbconvert_exporter": "python",
   "pygments_lexer": "ipython3",
   "version": "3.7.9"
  },
  "toc": {
   "base_numbering": 1,
   "nav_menu": {},
   "number_sections": true,
   "sideBar": true,
   "skip_h1_title": false,
   "title_cell": "Table of Contents",
   "title_sidebar": "Contents",
   "toc_cell": false,
   "toc_position": {},
   "toc_section_display": true,
   "toc_window_display": false
  },
  "varInspector": {
   "cols": {
    "lenName": 16,
    "lenType": 16,
    "lenVar": 40
   },
   "kernels_config": {
    "python": {
     "delete_cmd_postfix": "",
     "delete_cmd_prefix": "del ",
     "library": "var_list.py",
     "varRefreshCmd": "print(var_dic_list())"
    },
    "r": {
     "delete_cmd_postfix": ") ",
     "delete_cmd_prefix": "rm(",
     "library": "var_list.r",
     "varRefreshCmd": "cat(var_dic_list()) "
    }
   },
   "types_to_exclude": [
    "module",
    "function",
    "builtin_function_or_method",
    "instance",
    "_Feature"
   ],
   "window_display": false
  },
  "vscode": {
   "interpreter": {
    "hash": "5109d816b82be14675a6b11f8e0f0d2e80f029176ed3710d54e125caa8520dfd"
   }
  }
 },
 "nbformat": 4,
 "nbformat_minor": 4
}
